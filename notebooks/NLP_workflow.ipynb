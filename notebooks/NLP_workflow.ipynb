{
 "cells": [
  {
   "cell_type": "code",
   "execution_count": null,
   "metadata": {},
   "outputs": [],
   "source": [
    "import tensorflow as tf\n",
    "assert tf.__version__ >= \"2.0\"\n",
    "\n",
    "from transformers import AutoTokenizer, TFAutoModelForSequenceClassification\n",
    "from transformers import pipeline"
   ]
  },
  {
   "cell_type": "markdown",
   "metadata": {},
   "source": [
    "## Load NLP model"
   ]
  },
  {
   "cell_type": "code",
   "execution_count": null,
   "metadata": {},
   "outputs": [],
   "source": [
    "tokenizer = AutoTokenizer.from_pretrained(\"tblard/tf-allocine\", use_fast=True)\n",
    "model = TFAutoModelForSequenceClassification.from_pretrained(\"tblard/tf-allocine\")\n",
    "\n",
    "nlp = pipeline('sentiment-analysis', model=model, tokenizer=tokenizer)"
   ]
  },
  {
   "cell_type": "markdown",
   "metadata": {},
   "source": [
    "## Run widget"
   ]
  },
  {
   "cell_type": "code",
   "execution_count": null,
   "metadata": {},
   "outputs": [],
   "source": [
    "#@title\n",
    "import ipywidgets as widgets\n",
    "from IPython.display import display\n",
    "\n",
    "class Color:   \n",
    "   GREEN = '\\033[92m'\n",
    "   RED = '\\033[91m'\n",
    "   BOLD = '\\033[1m'   \n",
    "   END = '\\033[0m'\n",
    "\n",
    "button = widgets.Button(\n",
    "    description='CLASSIFY !',\n",
    "    button_style='primary'\n",
    "  )\n",
    "\n",
    "text_area = widgets.Textarea(\n",
    "    value='',\n",
    "    placeholder='Type something',\n",
    "    description='',\n",
    "    disabled=False\n",
    ")\n",
    "output = widgets.Output()\n",
    "\n",
    "def on_button_clicked(b):\n",
    "  text = text_area.value\n",
    "  result = nlp(text)\n",
    "  print(f'results: {result}')\n",
    "  prediction = result[0][\"label\"]\n",
    "\n",
    "  if prediction == \"POSITIVE\":    \n",
    "    color = Color.GREEN    \n",
    "  else:\n",
    "    color = Color.RED\n",
    "\n",
    "  with output:    \n",
    "    print(Color.BOLD + color + f'{prediction}: ' + Color.END + f'\"{text}\"')\n",
    "\n",
    "button.on_click(on_button_clicked)\n",
    "display(text_area, button, output)\n"
   ]
  }
 ],
 "metadata": {
  "interpreter": {
   "hash": "8896c3a96bf01045223a87d92aa6683cf823ffb153a6720cbb4ff8024b18b47d"
  },
  "kernelspec": {
   "display_name": "Python 3.6.12 64-bit ('green_compute': conda)",
   "name": "python3"
  },
  "language_info": {
   "codemirror_mode": {
    "name": "ipython",
    "version": 3
   },
   "file_extension": ".py",
   "mimetype": "text/x-python",
   "name": "python",
   "nbconvert_exporter": "python",
   "pygments_lexer": "ipython3",
   "version": "3.6.12"
  },
  "orig_nbformat": 4
 },
 "nbformat": 4,
 "nbformat_minor": 2
}
